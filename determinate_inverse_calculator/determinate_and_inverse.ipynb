{
 "cells": [
  {
   "cell_type": "code",
   "execution_count": 13,
   "id": "c7c0926c-6cc0-4919-8f41-7bf17854c9cd",
   "metadata": {
    "tags": []
   },
   "outputs": [
    {
     "name": "stdout",
     "output_type": "stream",
     "text": [
      "Requirement already satisfied: numpy in /Library/Frameworks/Python.framework/Versions/3.11/lib/python3.11/site-packages (1.24.2)\n",
      "Note: you may need to restart the kernel to use updated packages.\n"
     ]
    }
   ],
   "source": [
    "pip install numpy"
   ]
  },
  {
   "cell_type": "code",
   "execution_count": 36,
   "id": "4b38ba0e-4584-4c90-8a99-0aa607c21f24",
   "metadata": {
    "tags": []
   },
   "outputs": [],
   "source": [
    "import numpy as np\n",
    "import math"
   ]
  },
  {
   "cell_type": "code",
   "execution_count": 43,
   "id": "87077c37-278a-44d8-b17d-68756eeccf07",
   "metadata": {
    "tags": []
   },
   "outputs": [],
   "source": [
    "def minor(matrix, i, j):\n",
    "    \"\"\"\n",
    "    Returns the minor of the element at row i and column j in the given matrix.\n",
    "    \"\"\"\n",
    "    return determinant([row[:j] + row[j+1:] for row in (matrix[:i]+matrix[i+1:])])\n",
    "\n",
    "def determinant(matrix):\n",
    "    \"\"\"\n",
    "    Returns the determinant of the given matrix.\n",
    "    \"\"\"\n",
    "    if len(matrix) == 1:\n",
    "        return matrix[0][0]\n",
    "    elif len(matrix) == 2:\n",
    "        return matrix[0][0]*matrix[1][1] - matrix[0][1]*matrix[1][0]\n",
    "    else:\n",
    "        det = 0\n",
    "        for j in range(len(matrix)):\n",
    "            det += ((-1)**j)*matrix[0][j]*determinant([row[:j]+row[j+1:] for row in matrix[1:]])\n",
    "        return det\n",
    "\n",
    "def minors(matrix):\n",
    "    \"\"\"\n",
    "    Returns a new matrix containing the minors of the given matrix.\n",
    "    \"\"\"\n",
    "    return [[minor(matrix, i, j) for j in range(len(matrix[0]))] for i in range(len(matrix))]"
   ]
  },
  {
   "cell_type": "code",
   "execution_count": 44,
   "id": "feb2f4cc-9232-4f07-a297-795652045479",
   "metadata": {
    "tags": []
   },
   "outputs": [],
   "source": [
    "def cofactor(matrix):\n",
    "    \"\"\"\n",
    "    Returns a new matrix containing the cofactors of the given matrix.\n",
    "    \"\"\"\n",
    "    return [[(-1)**(i+j) * matrix[i][j] for j in range(len(matrix[0]))] for i in range(len(matrix))]\n"
   ]
  },
  {
   "cell_type": "code",
   "execution_count": 45,
   "id": "e3a1c573-24f5-46f5-b4f1-d1b0ed1ab5ff",
   "metadata": {
    "tags": []
   },
   "outputs": [
    {
     "name": "stdout",
     "output_type": "stream",
     "text": [
      "minors matrix\n",
      "[29, -1, -11]\n",
      "[22, 12, -16]\n",
      "[19, 7, 3]\n",
      "\n",
      "\n",
      "cofactors matrix\n",
      "[29, 1, -11]\n",
      "[-22, 12, 16]\n",
      "[19, -7, 3]\n",
      "\n",
      "\n"
     ]
    }
   ],
   "source": [
    "matrix = [[2, 5, -1], [1, 4, 3], [2, -3, 5]]\n",
    "minors_matrix = minors(matrix)\n",
    "cofactors_matrix = cofactor(minors_matrix)\n",
    "\n",
    "print(\"minors matrix\")\n",
    "print(*minors_matrix, sep = '\\n')\n",
    "print('\\n')\n",
    "print(\"cofactors matrix\")\n",
    "print(*cofactors_matrix, sep = '\\n')\n",
    "print('\\n')"
   ]
  },
  {
   "cell_type": "code",
   "execution_count": 49,
   "id": "1d57763f-ff9a-43a6-a0e1-b9c71b878b6b",
   "metadata": {
    "tags": []
   },
   "outputs": [],
   "source": [
    "def determinate():\n",
    "    return np.linalg.det(matrix)"
   ]
  },
  {
   "cell_type": "code",
   "execution_count": 50,
   "id": "880c2cb4-c1e6-45a6-bf25-34a11302cf98",
   "metadata": {
    "tags": []
   },
   "outputs": [
    {
     "name": "stdout",
     "output_type": "stream",
     "text": [
      "determinate\n",
      "74.0\n"
     ]
    }
   ],
   "source": [
    "print(\"determinate\")\n",
    "print(round(determinate(), 1))"
   ]
  },
  {
   "cell_type": "code",
   "execution_count": 57,
   "id": "274faabc-00ce-4c3f-a5ae-3f72ef78bed4",
   "metadata": {
    "tags": []
   },
   "outputs": [],
   "source": [
    "def inverse():\n",
    "    return np.linalg.inv(matrix)"
   ]
  },
  {
   "cell_type": "code",
   "execution_count": 59,
   "id": "875bef01-8767-4934-9643-cf0b04f0db2f",
   "metadata": {
    "tags": []
   },
   "outputs": [
    {
     "name": "stdout",
     "output_type": "stream",
     "text": [
      "inverse\n",
      "[[ 0.39189189 -0.2972973   0.25675676]\n",
      " [ 0.01351351  0.16216216 -0.09459459]\n",
      " [-0.14864865  0.21621622  0.04054054]]\n"
     ]
    }
   ],
   "source": [
    "print(\"inverse\")\n",
    "print(inverse())"
   ]
  },
  {
   "cell_type": "code",
   "execution_count": null,
   "id": "b046d6b8-63f3-4356-b6cc-f0a0c0a6e0f3",
   "metadata": {},
   "outputs": [],
   "source": []
  }
 ],
 "metadata": {
  "kernelspec": {
   "display_name": "Python 3 (ipykernel)",
   "language": "python",
   "name": "python3"
  },
  "language_info": {
   "codemirror_mode": {
    "name": "ipython",
    "version": 3
   },
   "file_extension": ".py",
   "mimetype": "text/x-python",
   "name": "python",
   "nbconvert_exporter": "python",
   "pygments_lexer": "ipython3",
   "version": "3.11.2"
  }
 },
 "nbformat": 4,
 "nbformat_minor": 5
}
