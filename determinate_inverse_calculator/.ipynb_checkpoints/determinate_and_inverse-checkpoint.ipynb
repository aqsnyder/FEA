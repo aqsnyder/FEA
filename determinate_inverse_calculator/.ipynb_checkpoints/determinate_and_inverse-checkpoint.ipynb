{
 "cells": [
  {
   "cell_type": "code",
   "execution_count": 11,
   "id": "87077c37-278a-44d8-b17d-68756eeccf07",
   "metadata": {
    "tags": []
   },
   "outputs": [],
   "source": [
    "def minor(matrix, i, j):\n",
    "    \"\"\"\n",
    "    Returns the minor of the element at row i and column j in the given matrix.\n",
    "    \"\"\"\n",
    "    return determinant([row[:j] + row[j+1:] for row in (matrix[:i]+matrix[i+1:])])\n",
    "\n",
    "def determinant(matrix):\n",
    "    \"\"\"\n",
    "    Returns the determinant of the given matrix.\n",
    "    \"\"\"\n",
    "    if len(matrix) == 1:\n",
    "        return matrix[0][0]\n",
    "    elif len(matrix) == 2:\n",
    "        return matrix[0][0]*matrix[1][1] - matrix[0][1]*matrix[1][0]\n",
    "    else:\n",
    "        det = 0\n",
    "        for j in range(len(matrix)):\n",
    "            det += ((-1)**j)*matrix[0][j]*determinant([row[:j]+row[j+1:] for row in matrix[1:]])\n",
    "        return det\n",
    "\n",
    "def minors(matrix):\n",
    "    \"\"\"\n",
    "    Returns a new matrix containing the minors of the given matrix.\n",
    "    \"\"\"\n",
    "    return [[minor(matrix, i, j) for j in range(len(matrix[0]))] for i in range(len(matrix))]"
   ]
  },
  {
   "cell_type": "code",
   "execution_count": 6,
   "id": "feb2f4cc-9232-4f07-a297-795652045479",
   "metadata": {
    "tags": []
   },
   "outputs": [],
   "source": [
    "def cofactor(matrix):\n",
    "    \"\"\"\n",
    "    Returns a new matrix containing the cofactors of the given matrix.\n",
    "    \"\"\"\n",
    "    return [[(-1)**(i+j) * matrix[i][j] for j in range(len(matrix[0]))] for i in range(len(matrix))]\n"
   ]
  },
  {
   "cell_type": "code",
   "execution_count": 30,
   "id": "ea79b95c-5dc8-40cb-b830-89a32fb11b9f",
   "metadata": {
    "tags": []
   },
   "outputs": [],
   "source": [
    "def determinant(cofactor_matrix):\n",
    "    \"\"\"\n",
    "    Returns the determinant of the given matrix using the cofactor expansion formula.\n",
    "    \"\"\"\n",
    "    if len(cofactor_matrix) == 1:\n",
    "        return cofactor_matrix[0][0]\n",
    "    elif len(cofactor_matrix) == 2:\n",
    "        return cofactor_matrix[0][0] * cofactor_matrix[1][1] - cofactor_matrix[0][1] * cofactor_matrix[1][0]\n",
    "    else:\n",
    "        det = 0\n",
    "        for j in range(len(cofactor_matrix)):\n",
    "            det += ((-1)**j) * cofactor_matrix[0][j] * determinant([row[:j]+row[j+1:] for row in cofactor_matrix[1:]])\n",
    "        return det"
   ]
  },
  {
   "cell_type": "code",
   "execution_count": 32,
   "id": "e3a1c573-24f5-46f5-b4f1-d1b0ed1ab5ff",
   "metadata": {
    "tags": []
   },
   "outputs": [
    {
     "name": "stdout",
     "output_type": "stream",
     "text": [
      "[11, -15, -14]\n",
      "[-1, -20, -3]\n",
      "[-14, 2, 5]\n",
      "\n",
      "\n",
      "[11, 15, -14]\n",
      "[1, -20, 3]\n",
      "[-14, -2, 5]\n",
      "\n",
      "\n",
      "2209\n"
     ]
    }
   ],
   "source": [
    "matrix = [[2, 1, 6], [1, 3, 4], [5, 1, 5]]\n",
    "minors_matrix = minors(matrix)\n",
    "cofactors_matrix = cofactor(minors_matrix)\n",
    "\n",
    "print(*minors_matrix, sep = '\\n')\n",
    "print('\\n')\n",
    "print(*cofactors_matrix, sep = '\\n')\n",
    "print('\\n')\n",
    "print(determinant(cofactors_matrix))"
   ]
  },
  {
   "cell_type": "code",
   "execution_count": null,
   "id": "db5bddb1-f795-4f82-a002-d90da4f37643",
   "metadata": {},
   "outputs": [],
   "source": []
  }
 ],
 "metadata": {
  "kernelspec": {
   "display_name": "Python 3 (ipykernel)",
   "language": "python",
   "name": "python3"
  },
  "language_info": {
   "codemirror_mode": {
    "name": "ipython",
    "version": 3
   },
   "file_extension": ".py",
   "mimetype": "text/x-python",
   "name": "python",
   "nbconvert_exporter": "python",
   "pygments_lexer": "ipython3",
   "version": "3.11.2"
  }
 },
 "nbformat": 4,
 "nbformat_minor": 5
}
